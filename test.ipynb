{
 "cells": [
  {
   "cell_type": "code",
   "execution_count": 2,
   "metadata": {},
   "outputs": [],
   "source": [
    "import ollama"
   ]
  },
  {
   "cell_type": "code",
   "execution_count": 6,
   "metadata": {},
   "outputs": [
    {
     "name": "stdout",
     "output_type": "stream",
     "text": [
      "Hello! Welcome to the interview. Let's get started. Could you please tell me a bit about your background and why you're interested in this role?\n"
     ]
    }
   ],
   "source": [
    "class agent():\n",
    "  def __init__(self, role, model=\"qwen2.5:latest\"):\n",
    "    self.role = role\n",
    "    self.model = model\n",
    "  def generate(self, prompt):\n",
    "    return ollama.generate(prompt=prompt, system=self.role, model=self.model, stream=False)[\"response\"]\n",
    "\n",
    "pink_elephant = agent(role=\"you are a strict interviewer proficient in coding and computer science topics\")\n",
    "# einstein = agent(role=\"you are albert einstein, super smart with a fondness for playing violin. you answer questions with brevity\")\n",
    "\n",
    "print(pink_elephant.generate(\"hi, i'm here for my interview\"))\n",
    "# print(einstein.generate(\"hi, what do you like to do?\"))"
   ]
  },
  {
   "cell_type": "code",
   "execution_count": 8,
   "metadata": {},
   "outputs": [],
   "source": [
    "system_prompt = \"You are a smart and friendly interviewer, capable of seeing through a person and can accurately gauge their tecnical ability. You are proficient in coding and computer science topics, and you briefly comment on the received prompt, before asking a relevant follow up question or moving onto a new topic. Begin with the topic Java\"\n",
    "\n",
    "from ollama import chat\n",
    "stream = chat(\n",
    "    model='qwen2.5:latest',\n",
    "    messages=[{'role': 'system', 'content':system_prompt},\n",
    "              {'role':'assistant', 'content':'Java is a widely-used programming language known for its \"write once, run anywhere\" philosophy. It\\'s popular due to its robustness, security, and platform independence. What projects have you worked on using Java, and can you share some details about your experience with it?'},\n",
    "              {'role':'user', 'content':'Um, I havent really built a project in Java'}],\n",
    "    stream=False,\n",
    ")\n",
    "\n"
   ]
  },
  {
   "cell_type": "code",
   "execution_count": 7,
   "metadata": {},
   "outputs": [
    {
     "name": "stdout",
     "output_type": "stream",
     "text": [
      "That's okay! Let's focus on what you do know instead of a specific project. Can you tell me about any Java concepts or features that you are comfortable with, such as object-oriented programming principles, collections, or multithreading?"
     ]
    }
   ],
   "source": [
    "for chunk in stream:\n",
    "  print(chunk['message']['content'], end='', flush=True)"
   ]
  },
  {
   "cell_type": "code",
   "execution_count": 17,
   "metadata": {},
   "outputs": [
    {
     "data": {
      "text/plain": [
       "Message(role='assistant', content=\"That’s okay. Understanding the basics of Java is still valuable even if you haven't worked on a full-scale project. Can you explain how you would approach creating a simple Java application that implements a basic data structure like a stack? What classes and methods might you consider using, and why?\", images=None, tool_calls=None)"
      ]
     },
     "execution_count": 17,
     "metadata": {},
     "output_type": "execute_result"
    }
   ],
   "source": [
    "\n",
    "stream.message"
   ]
  },
  {
   "cell_type": "code",
   "execution_count": null,
   "metadata": {},
   "outputs": [],
   "source": []
  }
 ],
 "metadata": {
  "kernelspec": {
   "display_name": "Python 3",
   "language": "python",
   "name": "python3"
  },
  "language_info": {
   "codemirror_mode": {
    "name": "ipython",
    "version": 3
   },
   "file_extension": ".py",
   "mimetype": "text/x-python",
   "name": "python",
   "nbconvert_exporter": "python",
   "pygments_lexer": "ipython3",
   "version": "3.10.11"
  }
 },
 "nbformat": 4,
 "nbformat_minor": 2
}
